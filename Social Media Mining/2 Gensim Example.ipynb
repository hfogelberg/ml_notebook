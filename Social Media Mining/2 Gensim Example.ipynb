{
 "cells": [
  {
   "cell_type": "code",
   "execution_count": 4,
   "metadata": {
    "collapsed": true
   },
   "outputs": [],
   "source": [
    "from gensim.summarization import summarize"
   ]
  },
  {
   "cell_type": "markdown",
   "metadata": {},
   "source": [
    "The output will be about 25% of the original text. This can however be controller by the ratio argument for proportion or word_count for the number of words in the output"
   ]
  },
  {
   "cell_type": "code",
   "execution_count": 12,
   "metadata": {},
   "outputs": [
    {
     "name": "stdout",
     "output_type": "stream",
     "text": [
      "At the beginning of the story, Lord Eddard \"Ned\" Stark executes a deserter from the Night's Watch, who has betrayed his vows and fled from the Wall.\n",
      "On the way back, his children adopt six direwolf pups, the animal of his sigil.\n",
      "There are three male and two female direwolf pups, as well as an albino runt, which aligns with his three trueborn sons, two trueborn daughters, and one bastard son.\n",
      "That night, Ned receives word of the death of his mentor, Lord Jon Arryn, the principal advisor to Ned's childhood friend, King Robert Baratheon.\n",
      "During his own visit to Ned's castle of Winterfell, Robert recruits Ned to replace Arryn as the King's Hand.\n",
      "Ned is reluctant, but agrees to go when he learns that Arryn's widow Lysa believes Queen Cersei Lannister and her family poisoned Arryn.\n",
      "Shortly thereafter, Ned's son Bran inadvertently discovers Cersei having sex with her twin brother Jaime Lannister, who throws Bran from the tower to conceal their affair.\n",
      "Ned and his daughters Sansa and Arya depart for the royal capital of King's Landing, while his wife Catelyn, a comatose Bran, and their other sons Robb and Rickon remain at Winterfell.\n",
      "During the journey south, a physical altercation between Arya and Robert's son, Prince Joffrey, to whom Sansa has been betrothed, increases both the tension between the Starks and the Lannisters and the sibling rivalry between Arya and Sansa.\n",
      "Arya's direwolf Nymeria attacks Joffrey to protect her, and Arya chases Nymeria away to protect her from the Lannisters' wrath, wherefore Sansa's direwolf Lady is executed in Nymeria's place.\n",
      "At Winterfell, an assassin attempts to kill Bran, thwarted only by his direwolf.\n",
      "Catelyn departs for King's Landing to bring word of this to Ned. Shortly after that, Bran awakens as a paraplegic, with no memory of the cause of his fall.\n",
      "Upon Catelyn's arrival in King's Landing, she is brought to her childhood friend, Petyr \"Littlefinger\" Baelish, who identifies Tyrion Lannister, the dwarf brother of Cersei and Jaime, as the owner of the dagger used against Bran, and agrees to help Ned investigate the possibility of Lannister treason.\n",
      "During her return to Winterfell, Catelyn meets Tyrion by chance on the Kingsroad, arrests him, and takes him to her sister Lysa Arryn's stronghold in the Vale, where Tyrion demands trial by combat and regains his freedom when his champion, a mercenary named Bronn, is victorious.\n",
      "In retaliation for Tyrion's abduction, his father Lord Tywin Lannister sends soldiers to raid Catelyn's homeland, the Riverlands.\n",
      "In King's Landing, Ned finds Robert's eldest brother Stannis Baratheon left the city after Jon Arryn's death for his island of Dragonstone.\n",
      "Ned begins to investigate into Jon Arryn's affairs, which leads him to visiting locations where Jon Arryn visited with Stannis - including places where Robert's bastard children are found.\n",
      "On the way back from one such place, Ned and his soldiers are waylaid by Jaime Lannister, who demands Tyrion's return, and when he does not get what he wants he orders Ned's men be killed - in the ensuing skirmish, Ned is crippled in one leg when his horse collapses on top of him.\n",
      "Even afterwards, Ned continues to investigate and eventually discovers that Robert's legal heirs, including Joffrey, are in fact Cersei's children by Jaime and that Jon Arryn was killed to conceal his discovery of their incest.\n",
      "Ned offers Cersei a chance to flee before he informs Robert, but she uses this chance to arrange Robert's death in a hunting accident.\n",
      "Ned, made lord-regent by Robert's will, enlists Littlefinger's help to secure the loyalty and assistance of the city guards to challenge Joffrey's claim on the throne and place Stannis on the throne; but Littlefinger betrays him, resulting in Ned's arrest, and the death of his men.\n",
      "Whilst Joffrey is crowned King of the Seven Kingdoms, Ned eventually agrees to falsely confess to high treason and join the Night's Watch in exchange for Sansa and Arya's safety, but Joffrey has him beheaded anyway.\n",
      "Whilst Sansa is retained into custody, Arya escapes with the help of her fencing instructor, Syrio Forel, and Yoren, a recruiting agent for the Night's Watch.\n",
      "Robb Stark has gathered an army and marched south in response to his father's arrest; and upon learning of Ned's death, attempts to raise further support from and to aid his maternal grandfather, Lord Hoster Tully.\n",
      "To reach the Tully lands, he agrees to a marital alliance with the notoriously unreliable House Frey, who control the intervening territory but declined to assist the Tullys despite being sworn to Riverrun.\n",
      "Robb proves victorious against Jaime Lannister, who is captured and taken prisoner, while his father Tywin decides to withdraw to the southern border of the Tully lands, sending Tyrion to King's Landing to keep Joffrey under control.\n",
      "When Robb elects not to ally himself with Robert's brothers Renly and Stannis, who have both made claims to the throne, the southern and northern lords hail him as \"King in the North\": his family's ancestral title.\n",
      "On the Wall[edit]\n",
      "The prologue of the novel introduces the Wall: an ancient barrier of stone, ice, and magic, hundreds of feet high and hundreds of miles long, shielding the Seven Kingdoms from the Northern wilderness.\n",
      "The Wall is manned by the Night's Watch: an order of warriors sworn to serve there for life, forgoing marriage, titles, property, and children.\n",
      "North of the Wall, a small patrol of Rangers from the Night's Watch encounter the Others, an ancient and hostile race of superhumans.\n",
      "All of the Rangers are killed except the single survivor later executed by Eddard Stark for desertion.\n",
      "Jon Snow, the bastard son of Eddard Stark, is inspired by his uncle, Benjen Stark, to join the Night's Watch, but becomes disillusioned when he discovers that its primary use is that of a penal colony for criminals, meant to keep \"wildlings\", human tribesmen in relative anarchy north of the Wall, in check.\n",
      "At the Wall, Jon unites the recruits against their harsh instructor and protects the cowardly but good-natured and intelligent Samwell Tarly.\n",
      "Jon hopes that his combat skills will earn him assignment to the Rangers, the military arm of the Night's Watch, but instead is made a steward to the leader of the Watch, Lord Commander Jeor Mormont, potentially making Jon the successor to Mormont.\n",
      "Benjen, who had led a small party of Rangers beyond the Wall, fails to return, and six months later, the dead bodies of two of the Rangers from his party are recovered beyond the Wall, but soon re-animate as wights, which kill six men and threaten Mormont before being dispatched by Jon.\n",
      "When word of his father's execution reaches Jon, he attempts to join Robb against the Lannisters but is prevented by his comrades and persuaded by Mormont to remain loyal to the Watch.\n",
      "Mormont then declares his intention to find Benjen — dead or alive — and to investigate the disappearance of many wildlings and the dark rumors surrounding \"the King-Beyond-the-Wall\": a deserter from the Night's Watch known as Mance Rayder.\n",
      "Across the narrow sea[edit]\n",
      "In Pentos, a city-state of Essos, a continent to the east of Westeros, Viserys Targaryen, son of the king overthrown by Robert Baratheon, betroths his sister Daenerys to Khal Drogo, a warlord of the nomadic Dothraki, in exchange for the use of Drogo's army to reclaim the throne of Westeros.\n",
      "Illyrio, a wealthy merchant who has been supporting the penniless Targaryens and brokered the marriage, gives Daenerys three petrified dragon eggs as a wedding gift.\n",
      "Jorah Mormont, a knight exiled from Westeros, joins Viserys as an adviser.\n",
      "Initially terrified of her new husband and his people, Daenerys eventually embraces the role of Drogo's queen.\n",
      "When Drogo shows little interest in conquering Westeros, Viserys tries to browbeat his sister into coercing Drogo, but she refuses.\n",
      "When Viserys publicly threatens Daenerys, Drogo executes him by pouring molten gold on his head.\n",
      "After that, an assassin seeking King Robert's favor attempts to poison Daenerys and her unborn child, and Drogo agrees to help her conquer Westeros.\n",
      "While sacking villages to fund the invasion, Drogo is wounded, and Daenerys commands a captive folk healer to save him.\n",
      "When he is beyond saving, the healer, angered by the Dothraki raids, sacrifices Daenerys' unborn child to power the spell to save Drogo's life, which restores Drogo's health but leaves him in a vegetative state.\n",
      "Most of the Dothraki army departs to follow a new leader.\n",
      "Daenerys smothers Drogo with a pillow and orders the healer tied to Drogo's funeral pyre.\n",
      "She places her three dragon eggs on the pyre, enters it herself, and emerges unscathed with three newly hatched dragons suckling at her breasts.\n",
      "The remaining Dothraki and Jorah Mormont, awe-struck, swear allegiance to her.g\n"
     ]
    }
   ],
   "source": [
    "with open('got.txt', 'r') as f:\n",
    "    content = f.read()\n",
    "    summary = summarize(content, split=True, ratio=5)\n",
    "    for i, sentence in enumerate(summary):\n",
    "        print(sentence)"
   ]
  },
  {
   "cell_type": "code",
   "execution_count": null,
   "metadata": {
    "collapsed": true
   },
   "outputs": [],
   "source": []
  }
 ],
 "metadata": {
  "kernelspec": {
   "display_name": "Python 3",
   "language": "python",
   "name": "python3"
  },
  "language_info": {
   "codemirror_mode": {
    "name": "ipython",
    "version": 3
   },
   "file_extension": ".py",
   "mimetype": "text/x-python",
   "name": "python",
   "nbconvert_exporter": "python",
   "pygments_lexer": "ipython3",
   "version": "3.6.2"
  }
 },
 "nbformat": 4,
 "nbformat_minor": 2
}
