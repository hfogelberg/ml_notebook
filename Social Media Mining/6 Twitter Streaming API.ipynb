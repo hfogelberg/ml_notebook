{
 "cells": [
  {
   "cell_type": "code",
   "execution_count": null,
   "metadata": {
    "collapsed": true
   },
   "outputs": [],
   "source": [
    "import tweepy\n",
    "from pymongo import MongoClient\n",
    "from tweepy import Stream\n",
    "from tweepy.streaming import StreamListener\n",
    "import os\n",
    "import datetime"
   ]
  },
  {
   "cell_type": "code",
   "execution_count": null,
   "metadata": {},
   "outputs": [],
   "source": [
    "dbUrl = os.getenv('MLAB_DB')\n",
    "client = MongoClient(dbUrl)\n",
    "db = client['mining']"
   ]
  },
  {
   "cell_type": "code",
   "execution_count": null,
   "metadata": {},
   "outputs": [],
   "source": [
    "class StreamListener(StreamListener):\n",
    "    def on_status(self, status):\n",
    "        if 'python' in status.text.lower():\n",
    "            insert('Python')\n",
    "        elif 'golang' in status.text.lower():\n",
    "            insert('Golang')\n",
    "        elif 'javascript' in status.text.lower():\n",
    "            insert('Javascript')\n",
    "        else:\n",
    "            print(status.text)\n",
    "            \n",
    "    def on_error(self, status_code):\n",
    "        return False"
   ]
  },
  {
   "cell_type": "code",
   "execution_count": null,
   "metadata": {},
   "outputs": [],
   "source": [
    "def insert(lang):\n",
    "    tweets = db['tweets']\n",
    "    id = tweets.insert_one({\n",
    "        \"lang\": lang, \n",
    "        \"date\": datetime.datetime.utcnow()\n",
    "    })"
   ]
  },
  {
   "cell_type": "code",
   "execution_count": null,
   "metadata": {},
   "outputs": [],
   "source": [
    "def get_tweepy_client():\n",
    "    consumer_key = os.getenv('TWITTER_CONSUMER_KEY')\n",
    "    consumer_secret = os.getenv('TWITTER_CONSUMER_SECRET')\n",
    "    access_token = os.getenv('TWITTER_ACCESS_TOKEN')\n",
    "    access_secret = os.getenv('TWITTER_ACCESS_SECRET')\n",
    "\n",
    "    auth = tweepy.OAuthHandler(consumer_key, consumer_secret)\n",
    "    auth.set_access_token(access_token, access_secret)\n",
    "    \n",
    "    l = StreamListener()\n",
    "    stream = Stream(auth, listener=l)\n",
    "    return stream"
   ]
  },
  {
   "cell_type": "code",
   "execution_count": null,
   "metadata": {},
   "outputs": [],
   "source": [
    "stream = get_tweepy_client()"
   ]
  },
  {
   "cell_type": "code",
   "execution_count": 7,
   "metadata": {},
   "outputs": [],
   "source": [
    "stream.filter(languages=[\"en\"], track=['python', 'golang', 'javascript'], async=True)"
   ]
  },
  {
   "cell_type": "code",
   "execution_count": null,
   "metadata": {
    "collapsed": true
   },
   "outputs": [],
   "source": []
  }
 ],
 "metadata": {
  "kernelspec": {
   "display_name": "Python 3",
   "language": "python",
   "name": "python3"
  },
  "language_info": {
   "codemirror_mode": {
    "name": "ipython",
    "version": 3
   },
   "file_extension": ".py",
   "mimetype": "text/x-python",
   "name": "python",
   "nbconvert_exporter": "python",
   "pygments_lexer": "ipython3",
   "version": "3.6.2"
  }
 },
 "nbformat": 4,
 "nbformat_minor": 2
}
