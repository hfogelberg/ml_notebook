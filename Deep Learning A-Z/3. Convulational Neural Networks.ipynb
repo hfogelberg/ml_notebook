{
 "cells": [
  {
   "cell_type": "markdown",
   "metadata": {},
   "source": [
    "Processing and interpreting images with ai/ml. The technique is used in self driving cars etc and was pionered by Yann Lacun.\n",
    "<p>\n",
    "Internally the computer only works by analyzing the individual pixels in the image. A black and white image is 2D and a color image 3D. In a black and white picture the greyness of each pixel is given a value of 0-255. In a color image there are three layers; R, G and B.\n",
    "<br>\n",
    "![How coumputer sees image](img/picture.png)\n",
    "\n"
   ]
  },
  {
   "cell_type": "markdown",
   "metadata": {
    "collapsed": true
   },
   "source": [
    "## Step 1: Colnvolution"
   ]
  },
  {
   "cell_type": "code",
   "execution_count": null,
   "metadata": {
    "collapsed": true
   },
   "outputs": [],
   "source": []
  }
 ],
 "metadata": {
  "kernelspec": {
   "display_name": "Python 3",
   "language": "python",
   "name": "python3"
  },
  "language_info": {
   "codemirror_mode": {
    "name": "ipython",
    "version": 3
   },
   "file_extension": ".py",
   "mimetype": "text/x-python",
   "name": "python",
   "nbconvert_exporter": "python",
   "pygments_lexer": "ipython3",
   "version": "3.5.2"
  }
 },
 "nbformat": 4,
 "nbformat_minor": 2
}
