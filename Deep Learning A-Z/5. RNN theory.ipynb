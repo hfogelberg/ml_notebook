{
 "cells": [
  {
   "cell_type": "markdown",
   "metadata": {
    "collapsed": true
   },
   "source": [
    "# RNN\n",
    "Recurrent Neural Networks are the edge are of machine learning and there is a lot of research still going on. In comparison to the human brain RNNs are the short term memory. A hidden layer passes on information to the next step, which in essence means in the future. That way the next step will \"remember\" what has previously happened.<br>\n",
    "![RNN 2](img/rnn2.png)\n",
    "<br>\n",
    "Examples of usage are:\n",
    "1. Generating sentences to describe an image (one to many).\n",
    "2. Determening if a sentance is positive or negative (many to one).\n",
    "3. Translating languages (many to many). \n",
    "4. Subtitle movies or describe what is happening (many to many).\n",
    "<br>\n",
    "The movie [Sunspring](https://www.youtube.com/watch?v=LY7x2Ihqjmc) was written by an RNN.\n",
    "\n",
    "## LSTM\n",
    "LSTM (Long Short-Term Memory) is the most popular type of RNN and mainly used today. "
   ]
  }
 ],
 "metadata": {
  "kernelspec": {
   "display_name": "Python 3",
   "language": "python",
   "name": "python3"
  },
  "language_info": {
   "codemirror_mode": {
    "name": "ipython",
    "version": 3
   },
   "file_extension": ".py",
   "mimetype": "text/x-python",
   "name": "python",
   "nbconvert_exporter": "python",
   "pygments_lexer": "ipython3",
   "version": "3.5.2"
  }
 },
 "nbformat": 4,
 "nbformat_minor": 2
}
